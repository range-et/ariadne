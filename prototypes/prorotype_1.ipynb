{
 "cells": [
  {
   "cell_type": "code",
   "execution_count": 34,
   "metadata": {},
   "outputs": [],
   "source": [
    "import ifcopenshell\n",
    "import ifcopenshell.geom\n",
    "import pyvista as pv\n",
    "import numpy as np\n",
    "import trimesh\n",
    "from scipy.spatial import KDTree"
   ]
  },
  {
   "cell_type": "code",
   "execution_count": 8,
   "metadata": {},
   "outputs": [],
   "source": [
    "def visualize_geometry(geometry_dict):\n",
    "    # Create a PyVista plotter\n",
    "    plotter = pv.Plotter()\n",
    "    \n",
    "    # Iterate through the dictionary\n",
    "    for key, geometries in geometry_dict.items():\n",
    "        # Parse the key to get color and style\n",
    "        color, style = key.split('-')\n",
    "        \n",
    "        # Set up the color\n",
    "        rgb_color = pv.Color(color).float_rgb\n",
    "        \n",
    "        # Set up the style\n",
    "        opacity = 1.0\n",
    "        if style == 'wireframe':\n",
    "            style = 'wireframe'\n",
    "        elif style == 'solid':\n",
    "            style = 'surface'\n",
    "        elif style == 'transparent':\n",
    "            style = 'surface'\n",
    "            opacity = 0.5\n",
    "        else:\n",
    "            raise ValueError(f\"Unknown style: {style}\")\n",
    "        \n",
    "        # Add each geometry to the plotter\n",
    "        for geometry in geometries:\n",
    "            if isinstance(geometry, np.ndarray):\n",
    "                # It's a point cloud\n",
    "                point_cloud = pv.PolyData(geometry)\n",
    "                plotter.add_points(point_cloud, color=rgb_color, opacity=opacity, point_size=5)\n",
    "            else:\n",
    "                # It's a mesh\n",
    "                if not isinstance(geometry, pv.DataSet):\n",
    "                    geometry = pv.wrap(geometry)\n",
    "                \n",
    "                if style == 'wireframe':\n",
    "                    plotter.add_mesh(geometry.extract_all_edges(), color=rgb_color, opacity=opacity, line_width=2)\n",
    "                else:\n",
    "                    plotter.add_mesh(geometry, color=rgb_color, opacity=opacity, style=style)\n",
    "    \n",
    "    # Show the plot\n",
    "    plotter.show()"
   ]
  },
  {
   "cell_type": "code",
   "execution_count": 9,
   "metadata": {},
   "outputs": [],
   "source": [
    "def process_ifc_file(ifc_file_path):\n",
    "    # Load the IFC file\n",
    "    ifc_file = ifcopenshell.open(ifc_file_path)\n",
    "    \n",
    "    # Set up the geometry settings\n",
    "    settings = ifcopenshell.geom.settings()\n",
    "    settings.set(settings.USE_WORLD_COORDS, True)\n",
    "    \n",
    "    # Initialize the dictionary to store meshes\n",
    "    mesh_dict = {}\n",
    "    \n",
    "    # List of IFC types to process \n",
    "    ifc_types = [\n",
    "        \"IfcWall\", \"IfcSlab\", \"IfcBeam\", \"IfcColumn\", \"IfcDoor\", \"IfcWindow\",\n",
    "        \"IfcRoof\", \"IfcStair\", \"IfcRailing\", \"IfcFurnishingElement\"\n",
    "    ]\n",
    "    \n",
    "    # Process each IFC type\n",
    "    for ifc_type in ifc_types:\n",
    "        elements = ifc_file.by_type(ifc_type)\n",
    "        meshes = []\n",
    "        \n",
    "        for element in elements:\n",
    "            try:\n",
    "                # Create geometry from the IFC element\n",
    "                shape = ifcopenshell.geom.create_shape(settings, element)\n",
    "                \n",
    "                # Extract vertices and faces\n",
    "                verts = shape.geometry.verts\n",
    "                faces = shape.geometry.faces\n",
    "                \n",
    "                # Reshape vertices array\n",
    "                vertices = np.array(verts).reshape((-1, 3))\n",
    "                \n",
    "                # Create faces array (add first vertex to each face for pyvista)\n",
    "                faces_array = np.column_stack((np.full((len(faces) // 3, 1), 3), \n",
    "                                               np.array(faces).reshape((-1, 3))))\n",
    "                \n",
    "                # Create pyvista PolyData\n",
    "                mesh = pv.PolyData(vertices, faces_array)\n",
    "                \n",
    "                meshes.append(mesh)\n",
    "            except RuntimeError:\n",
    "                # Skip elements that don't have geometry\n",
    "                continue\n",
    "        \n",
    "        # Add non-empty mesh lists to the dictionary\n",
    "        if meshes:\n",
    "            mesh_dict[f\"{ifc_type[3:].lower()}s\"] = meshes\n",
    "    \n",
    "    return mesh_dict"
   ]
  },
  {
   "cell_type": "code",
   "execution_count": 4,
   "metadata": {},
   "outputs": [],
   "source": [
    "# load up an example IFC shell \n",
    "ifc_dict = process_ifc_file(\"/Users/r2d2/Desktop/ariadne/test.ifc\")"
   ]
  },
  {
   "cell_type": "code",
   "execution_count": 10,
   "metadata": {},
   "outputs": [
    {
     "data": {
      "application/vnd.jupyter.widget-view+json": {
       "model_id": "cb9983c09c2c411fbf1afcc013a9f7ab",
       "version_major": 2,
       "version_minor": 0
      },
      "text/plain": [
       "Widget(value='<iframe src=\"http://localhost:55651/index.html?ui=P_0x137d388f0_0&reconnect=auto\" class=\"pyvista…"
      ]
     },
     "metadata": {},
     "output_type": "display_data"
    }
   ],
   "source": [
    "visualize_geometry({\"red-wireframe\":ifc_dict['slabs'], \"green-solid\":ifc_dict[\"walls\"]})"
   ]
  },
  {
   "cell_type": "code",
   "execution_count": 12,
   "metadata": {},
   "outputs": [
    {
     "name": "stdout",
     "output_type": "stream",
     "text": [
      "PolyData (0x134ade740)\n",
      "  N Cells:    348\n",
      "  N Points:   152\n",
      "  N Strips:   0\n",
      "  X Bounds:   0.000e+00, 1.830e+01\n",
      "  Y Bounds:   1.370e+01, 1.400e+01\n",
      "  Z Bounds:   -3.000e+00, -3.000e-01\n",
      "  N Arrays:   0\n"
     ]
    },
    {
     "data": {
      "application/vnd.jupyter.widget-view+json": {
       "model_id": "b64d1d99e72c48c8af81dd23dea2d67b",
       "version_major": 2,
       "version_minor": 0
      },
      "text/plain": [
       "Widget(value='<iframe src=\"http://localhost:55651/index.html?ui=P_0x145bb9190_1&reconnect=auto\" class=\"pyvista…"
      ]
     },
     "metadata": {},
     "output_type": "display_data"
    }
   ],
   "source": [
    "print(ifc_dict[\"walls\"][0])\n",
    "visualize_geometry({\"blue-wireframe\":[ifc_dict[\"walls\"][0]]})"
   ]
  },
  {
   "cell_type": "code",
   "execution_count": 13,
   "metadata": {},
   "outputs": [],
   "source": [
    "def process_mesh(pv_mesh, up_vector=np.array([0, 0, 1]), angle_threshold=np.radians(45)):\n",
    "    # Convert PyVista mesh to Trimesh\n",
    "    vertices = pv_mesh.points\n",
    "    faces = pv_mesh.faces.reshape(-1, 4)[:, 1:]\n",
    "    tri_mesh = trimesh.Trimesh(vertices=vertices, faces=faces)\n",
    "\n",
    "    # Calculate face normals\n",
    "    face_normals = tri_mesh.face_normals\n",
    "\n",
    "    # Calculate dot product with up vector\n",
    "    dot_products = np.dot(face_normals, up_vector)\n",
    "\n",
    "    # Filter faces based on orientation\n",
    "    upward_mask = dot_products > np.cos(angle_threshold)\n",
    "\n",
    "    # Function to create a PyVista mesh from a single face\n",
    "    def face_to_pyvista(vertices, face):\n",
    "        face_vertices = vertices[face]\n",
    "        return pv.PolyData(face_vertices, np.array([[3, 0, 1, 2]]))\n",
    "\n",
    "    # Create lists of individual face meshes\n",
    "    upward_faces = []\n",
    "    other_faces = []\n",
    "\n",
    "    for i, face in enumerate(tri_mesh.faces):\n",
    "        face_mesh = face_to_pyvista(tri_mesh.vertices, face)\n",
    "        if upward_mask[i]:\n",
    "            upward_faces.append(face_mesh)\n",
    "        else:\n",
    "            other_faces.append(face_mesh)\n",
    "\n",
    "    return {\n",
    "        \"upward_faces\": upward_faces,\n",
    "        \"other_faces\": other_faces\n",
    "    }"
   ]
  },
  {
   "cell_type": "code",
   "execution_count": 14,
   "metadata": {},
   "outputs": [],
   "source": [
    "example_mesh = process_mesh(ifc_dict[\"walls\"][0])"
   ]
  },
  {
   "cell_type": "code",
   "execution_count": 16,
   "metadata": {},
   "outputs": [
    {
     "data": {
      "application/vnd.jupyter.widget-view+json": {
       "model_id": "427264df5ce44bad9224edb1a21dc44b",
       "version_major": 2,
       "version_minor": 0
      },
      "text/plain": [
       "Widget(value='<iframe src=\"http://localhost:55651/index.html?ui=P_0x1459f4fb0_2&reconnect=auto\" class=\"pyvista…"
      ]
     },
     "metadata": {},
     "output_type": "display_data"
    }
   ],
   "source": [
    "visualize_geometry({\"red-solid\":example_mesh[\"other_faces\"], \"green-solid\":example_mesh[\"upward_faces\"], \"blue-wireframe\":[ifc_dict[\"walls\"][0]]})"
   ]
  },
  {
   "cell_type": "code",
   "execution_count": 19,
   "metadata": {},
   "outputs": [],
   "source": [
    "def poisson_disk_sampling(meshes, radius, k=30, return_pv=True):\n",
    "    def sample_single_mesh(mesh, radius):\n",
    "        # Convert PyVista mesh to Trimesh if necessary\n",
    "        if isinstance(mesh, pv.PolyData):\n",
    "            tri_mesh = trimesh.Trimesh(vertices=mesh.points, faces=mesh.faces.reshape(-1, 4)[:, 1:])\n",
    "        else:\n",
    "            tri_mesh = mesh\n",
    "\n",
    "        # Calculate an appropriate count based on mesh area and radius\n",
    "        approx_count = int(tri_mesh.area / (np.pi * radius**2))\n",
    "        count = max(approx_count, 10)  # Ensure at least 10 points\n",
    "\n",
    "        # Perform Poisson disk sampling\n",
    "        samples, face_indices = trimesh.sample.sample_surface_even(tri_mesh, count=count, radius=radius)\n",
    "        \n",
    "        return samples, face_indices\n",
    "\n",
    "    all_samples = []\n",
    "    all_face_indices = []\n",
    "    \n",
    "    # Ensure meshes is a list\n",
    "    if not isinstance(meshes, list):\n",
    "        meshes = [meshes]\n",
    "    \n",
    "    for mesh in meshes:\n",
    "        samples, face_indices = sample_single_mesh(mesh, radius)\n",
    "        all_samples.append(samples)\n",
    "        all_face_indices.append(face_indices)\n",
    "    \n",
    "    # Combine all samples\n",
    "    combined_samples = np.vstack(all_samples) if all_samples else np.array([])\n",
    "    \n",
    "    if return_pv:\n",
    "        # Convert to PyVista PolyData for visualization\n",
    "        point_cloud = pv.PolyData(combined_samples)\n",
    "        return point_cloud\n",
    "    else:\n",
    "        return combined_samples\n"
   ]
  },
  {
   "cell_type": "code",
   "execution_count": 20,
   "metadata": {},
   "outputs": [
    {
     "name": "stderr",
     "output_type": "stream",
     "text": [
      "only got 7/10 samples!\n",
      "only got 9/10 samples!\n",
      "only got 7/10 samples!\n",
      "only got 9/10 samples!\n",
      "only got 6/10 samples!\n",
      "only got 7/10 samples!\n",
      "only got 7/10 samples!\n",
      "only got 7/10 samples!\n",
      "only got 6/10 samples!\n",
      "only got 8/10 samples!\n",
      "only got 6/10 samples!\n",
      "only got 8/10 samples!\n",
      "only got 6/10 samples!\n",
      "only got 8/10 samples!\n",
      "only got 7/10 samples!\n",
      "only got 8/10 samples!\n",
      "only got 8/10 samples!\n",
      "only got 5/10 samples!\n",
      "only got 7/10 samples!\n",
      "only got 8/10 samples!\n",
      "only got 6/10 samples!\n",
      "only got 8/10 samples!\n",
      "only got 8/10 samples!\n",
      "only got 8/10 samples!\n",
      "only got 8/10 samples!\n",
      "only got 6/10 samples!\n",
      "only got 5/10 samples!\n",
      "only got 5/10 samples!\n",
      "only got 6/10 samples!\n",
      "only got 7/10 samples!\n",
      "only got 8/10 samples!\n",
      "only got 5/10 samples!\n",
      "only got 3/10 samples!\n",
      "only got 6/10 samples!\n",
      "only got 5/10 samples!\n",
      "only got 6/10 samples!\n",
      "only got 5/10 samples!\n",
      "only got 5/10 samples!\n",
      "only got 6/10 samples!\n",
      "only got 6/10 samples!\n",
      "only got 4/10 samples!\n",
      "only got 5/10 samples!\n",
      "only got 6/10 samples!\n",
      "only got 6/10 samples!\n",
      "only got 7/10 samples!\n",
      "only got 4/10 samples!\n",
      "only got 4/10 samples!\n",
      "only got 6/10 samples!\n"
     ]
    }
   ],
   "source": [
    "points = poisson_disk_sampling(example_mesh[\"upward_faces\"], 0.1)"
   ]
  },
  {
   "cell_type": "code",
   "execution_count": 23,
   "metadata": {},
   "outputs": [
    {
     "data": {
      "application/vnd.jupyter.widget-view+json": {
       "model_id": "bd891de8c440467c9e01bc51e7aa87de",
       "version_major": 2,
       "version_minor": 0
      },
      "text/plain": [
       "Widget(value='<iframe src=\"http://localhost:55651/index.html?ui=P_0x37ac1f1a0_4&reconnect=auto\" class=\"pyvista…"
      ]
     },
     "metadata": {},
     "output_type": "display_data"
    }
   ],
   "source": [
    "visualize_geometry({\"red-solid\":example_mesh[\"other_faces\"], \"green-solid\":example_mesh[\"upward_faces\"], \"blue-wireframe\":[ifc_dict[\"walls\"][0]], \"blue-solid\":[points]})"
   ]
  },
  {
   "cell_type": "code",
   "execution_count": 35,
   "metadata": {},
   "outputs": [],
   "source": [
    "\n",
    "def filter_points_near_meshes(points, meshes, distance_threshold):\n",
    "    \"\"\"\n",
    "    Filter out points that are within a specified distance from any of the given meshes.\n",
    "    \n",
    "    Parameters:\n",
    "    points (np.ndarray or pv.PolyData): Point cloud data\n",
    "    meshes (list): List of PyVista mesh objects\n",
    "    distance_threshold (float): Distance threshold for filtering\n",
    "    \n",
    "    Returns:\n",
    "    pv.PolyData: Filtered point cloud\n",
    "    \"\"\"\n",
    "    # Convert points to PyVista PolyData if it's a numpy array\n",
    "    if isinstance(points, np.ndarray):\n",
    "        points = pv.PolyData(points)\n",
    "    \n",
    "    # Combine all non-empty meshes into a single mesh\n",
    "    combined_mesh = pv.PolyData()\n",
    "    for mesh in meshes:\n",
    "        if mesh.n_cells > 0:\n",
    "            combined_mesh += mesh\n",
    "    \n",
    "    # Check if the combined mesh is empty\n",
    "    if combined_mesh.n_cells == 0:\n",
    "        print(\"Warning: All input meshes are empty. Returning original points.\")\n",
    "        return points\n",
    "    \n",
    "    # Use SciPy's KDTree to compute distances\n",
    "    tree = KDTree(combined_mesh.points)\n",
    "    distances, _ = tree.query(points.points, k=1)\n",
    "    \n",
    "    # Create a mask for points that are farther than the threshold\n",
    "    mask = distances > distance_threshold\n",
    "    \n",
    "    # Apply the mask to filter the points\n",
    "    filtered_points = points.extract_points(mask)\n",
    "    \n",
    "    return filtered_points"
   ]
  },
  {
   "cell_type": "code",
   "execution_count": 43,
   "metadata": {},
   "outputs": [],
   "source": [
    "filtered_points = filter_points_near_meshes(points, example_mesh[\"other_faces\"], 0.5)"
   ]
  },
  {
   "cell_type": "code",
   "execution_count": 44,
   "metadata": {},
   "outputs": [
    {
     "data": {
      "application/vnd.jupyter.widget-view+json": {
       "model_id": "88df559b4a204e8b95ff39af46ae586d",
       "version_major": 2,
       "version_minor": 0
      },
      "text/plain": [
       "Widget(value='<iframe src=\"http://localhost:55651/index.html?ui=P_0x38af2c3b0_9&reconnect=auto\" class=\"pyvista…"
      ]
     },
     "metadata": {},
     "output_type": "display_data"
    }
   ],
   "source": [
    "visualize_geometry({\"red-solid\":example_mesh[\"other_faces\"], \"green-solid\":example_mesh[\"upward_faces\"], \"blue-wireframe\":[ifc_dict[\"walls\"][0]], \"blue-transparent\":[points], \"yellow-solid\":[filtered_points]})"
   ]
  },
  {
   "cell_type": "code",
   "execution_count": 47,
   "metadata": {},
   "outputs": [],
   "source": [
    "horizontal_meshes = []\n",
    "vertical_meshes = []\n",
    "\n",
    "for key in ifc_dict.keys():\n",
    "    # get the meshs associated with this key\n",
    "    meshes = ifc_dict[key]\n",
    "    for mesh in meshes:\n",
    "        processed_mesh = process_mesh(mesh)\n",
    "        horizontal_meshes.extend(processed_mesh[\"upward_faces\"])\n",
    "        vertical_meshes.extend(processed_mesh[\"other_faces\"])"
   ]
  },
  {
   "cell_type": "code",
   "execution_count": null,
   "metadata": {},
   "outputs": [],
   "source": [
    "visualize_geometry({\"green-solid\": horizontal_meshes, \"red-wireframe\": vertical_meshes})"
   ]
  },
  {
   "cell_type": "code",
   "execution_count": null,
   "metadata": {},
   "outputs": [],
   "source": []
  },
  {
   "cell_type": "code",
   "execution_count": null,
   "metadata": {},
   "outputs": [],
   "source": []
  }
 ],
 "metadata": {
  "kernelspec": {
   "display_name": "ariadne",
   "language": "python",
   "name": "ariadne"
  },
  "language_info": {
   "codemirror_mode": {
    "name": "ipython",
    "version": 3
   },
   "file_extension": ".py",
   "mimetype": "text/x-python",
   "name": "python",
   "nbconvert_exporter": "python",
   "pygments_lexer": "ipython3",
   "version": "3.12.4"
  }
 },
 "nbformat": 4,
 "nbformat_minor": 4
}
