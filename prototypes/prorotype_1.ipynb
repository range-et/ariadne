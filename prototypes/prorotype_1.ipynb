{
 "cells": [
  {
   "cell_type": "code",
   "execution_count": 50,
   "metadata": {},
   "outputs": [],
   "source": [
    "import ifcopenshell\n",
    "import ifcopenshell.geom\n",
    "import pyvista as pv\n",
    "import numpy as np\n",
    "import trimesh\n",
    "from scipy.spatial import KDTree\n",
    "from scipy.spatial import Delaunay\n",
    "\n",
    "import warnings\n",
    "\n",
    "# Ignore all warnings\n",
    "warnings.filterwarnings('ignore')"
   ]
  },
  {
   "cell_type": "code",
   "execution_count": 2,
   "metadata": {},
   "outputs": [],
   "source": [
    "def visualize_geometry(geometry_dict):\n",
    "    # Create a PyVista plotter\n",
    "    plotter = pv.Plotter()\n",
    "    \n",
    "    # Iterate through the dictionary\n",
    "    for key, geometries in geometry_dict.items():\n",
    "        # Parse the key to get color and style\n",
    "        color, style = key.split('-')\n",
    "        \n",
    "        # Set up the color\n",
    "        rgb_color = pv.Color(color).float_rgb\n",
    "        \n",
    "        # Set up the style\n",
    "        opacity = 1.0\n",
    "        if style == 'wireframe':\n",
    "            style = 'wireframe'\n",
    "        elif style == 'solid':\n",
    "            style = 'surface'\n",
    "        elif style == 'transparent':\n",
    "            style = 'surface'\n",
    "            opacity = 0.5\n",
    "        else:\n",
    "            raise ValueError(f\"Unknown style: {style}\")\n",
    "        \n",
    "        # Add each geometry to the plotter\n",
    "        for geometry in geometries:\n",
    "            if isinstance(geometry, np.ndarray):\n",
    "                # It's a point cloud\n",
    "                point_cloud = pv.PolyData(geometry)\n",
    "                plotter.add_points(point_cloud, color=rgb_color, opacity=opacity, point_size=5)\n",
    "            else:\n",
    "                # It's a mesh\n",
    "                if not isinstance(geometry, pv.DataSet):\n",
    "                    geometry = pv.wrap(geometry)\n",
    "                \n",
    "                if style == 'wireframe':\n",
    "                    plotter.add_mesh(geometry.extract_all_edges(), color=rgb_color, opacity=opacity, line_width=2)\n",
    "                else:\n",
    "                    plotter.add_mesh(geometry, color=rgb_color, opacity=opacity, style=style)\n",
    "    \n",
    "    # Show the plot\n",
    "    plotter.show()"
   ]
  },
  {
   "cell_type": "code",
   "execution_count": 3,
   "metadata": {},
   "outputs": [],
   "source": [
    "def process_ifc_file(ifc_file_path):\n",
    "    # Load the IFC file\n",
    "    ifc_file = ifcopenshell.open(ifc_file_path)\n",
    "    \n",
    "    # Set up the geometry settings\n",
    "    settings = ifcopenshell.geom.settings()\n",
    "    settings.set(settings.USE_WORLD_COORDS, True)\n",
    "    \n",
    "    # Initialize the dictionary to store meshes\n",
    "    mesh_dict = {}\n",
    "    \n",
    "    # List of IFC types to process \n",
    "    ifc_types = [\n",
    "        \"IfcWall\", \"IfcSlab\", \"IfcBeam\", \"IfcColumn\", \"IfcDoor\", \"IfcWindow\",\n",
    "        \"IfcRoof\", \"IfcStair\", \"IfcRailing\", \"IfcFurnishingElement\"\n",
    "    ]\n",
    "    \n",
    "    # Process each IFC type\n",
    "    for ifc_type in ifc_types:\n",
    "        elements = ifc_file.by_type(ifc_type)\n",
    "        meshes = []\n",
    "        \n",
    "        for element in elements:\n",
    "            try:\n",
    "                # Create geometry from the IFC element\n",
    "                shape = ifcopenshell.geom.create_shape(settings, element)\n",
    "                \n",
    "                # Extract vertices and faces\n",
    "                verts = shape.geometry.verts\n",
    "                faces = shape.geometry.faces\n",
    "                \n",
    "                # Reshape vertices array\n",
    "                vertices = np.array(verts).reshape((-1, 3))\n",
    "                \n",
    "                # Create faces array (add first vertex to each face for pyvista)\n",
    "                faces_array = np.column_stack((np.full((len(faces) // 3, 1), 3), \n",
    "                                               np.array(faces).reshape((-1, 3))))\n",
    "                \n",
    "                # Create pyvista PolyData\n",
    "                mesh = pv.PolyData(vertices, faces_array)\n",
    "                \n",
    "                meshes.append(mesh)\n",
    "            except RuntimeError:\n",
    "                # Skip elements that don't have geometry\n",
    "                continue\n",
    "        \n",
    "        # Add non-empty mesh lists to the dictionary\n",
    "        if meshes:\n",
    "            mesh_dict[f\"{ifc_type[3:].lower()}s\"] = meshes\n",
    "    \n",
    "    return mesh_dict"
   ]
  },
  {
   "cell_type": "code",
   "execution_count": 4,
   "metadata": {},
   "outputs": [],
   "source": [
    "# load up an example IFC shell \n",
    "ifc_dict = process_ifc_file(\"/Users/r2d2/Desktop/ariadne/test.ifc\")"
   ]
  },
  {
   "cell_type": "code",
   "execution_count": 5,
   "metadata": {},
   "outputs": [
    {
     "data": {
      "application/vnd.jupyter.widget-view+json": {
       "model_id": "5aca04e8aa634b0781f495d4eef90063",
       "version_major": 2,
       "version_minor": 0
      },
      "text/plain": [
       "Widget(value='<iframe src=\"http://localhost:56387/index.html?ui=P_0x12ee0dc10_0&reconnect=auto\" class=\"pyvista…"
      ]
     },
     "metadata": {},
     "output_type": "display_data"
    }
   ],
   "source": [
    "visualize_geometry({\"red-wireframe\":ifc_dict['slabs'], \"green-solid\":ifc_dict[\"walls\"]})"
   ]
  },
  {
   "cell_type": "code",
   "execution_count": 24,
   "metadata": {},
   "outputs": [
    {
     "name": "stdout",
     "output_type": "stream",
     "text": [
      "PolyData (0x12b1567a0)\n",
      "  N Cells:    348\n",
      "  N Points:   152\n",
      "  N Strips:   0\n",
      "  X Bounds:   0.000e+00, 1.830e+01\n",
      "  Y Bounds:   1.370e+01, 1.400e+01\n",
      "  Z Bounds:   -3.000e+00, -3.000e-01\n",
      "  N Arrays:   0\n"
     ]
    },
    {
     "data": {
      "application/vnd.jupyter.widget-view+json": {
       "model_id": "08d7859fe6df473098a4d99069803c67",
       "version_major": 2,
       "version_minor": 0
      },
      "text/plain": [
       "Widget(value='<iframe src=\"http://localhost:56387/index.html?ui=P_0x399b5af00_6&reconnect=auto\" class=\"pyvista…"
      ]
     },
     "metadata": {},
     "output_type": "display_data"
    }
   ],
   "source": [
    "print(ifc_dict[\"walls\"][0])\n",
    "visualize_geometry({\"blue-wireframe\":[ifc_dict[\"slabs\"][0]]})"
   ]
  },
  {
   "cell_type": "code",
   "execution_count": 25,
   "metadata": {},
   "outputs": [],
   "source": [
    "def process_mesh(pv_mesh, up_vector=np.array([0, 0, 1]), angle_threshold=np.radians(45)):\n",
    "    # Convert PyVista mesh to Trimesh\n",
    "    vertices = pv_mesh.points\n",
    "    faces = pv_mesh.faces.reshape(-1, 4)[:, 1:]\n",
    "    tri_mesh = trimesh.Trimesh(vertices=vertices, faces=faces)\n",
    "\n",
    "    # Calculate face normals\n",
    "    face_normals = tri_mesh.face_normals\n",
    "\n",
    "    # Calculate dot product with up vector\n",
    "    dot_products = np.dot(face_normals, up_vector)\n",
    "\n",
    "    # Filter faces based on orientation\n",
    "    upward_mask = dot_products > np.cos(angle_threshold)\n",
    "\n",
    "    # Function to create a PyVista mesh from a single face\n",
    "    def face_to_pyvista(vertices, face):\n",
    "        face_vertices = vertices[face]\n",
    "        return pv.PolyData(face_vertices, np.array([[3, 0, 1, 2]]))\n",
    "\n",
    "    # Create lists of individual face meshes\n",
    "    upward_faces = []\n",
    "    other_faces = []\n",
    "\n",
    "    for i, face in enumerate(tri_mesh.faces):\n",
    "        face_mesh = face_to_pyvista(tri_mesh.vertices, face)\n",
    "        if upward_mask[i]:\n",
    "            upward_faces.append(face_mesh)\n",
    "        else:\n",
    "            other_faces.append(face_mesh)\n",
    "\n",
    "    return {\n",
    "        \"upward_faces\": upward_faces,\n",
    "        \"other_faces\": other_faces\n",
    "    }"
   ]
  },
  {
   "cell_type": "code",
   "execution_count": 26,
   "metadata": {},
   "outputs": [],
   "source": [
    "example_mesh = process_mesh(ifc_dict[\"slabs\"][0])"
   ]
  },
  {
   "cell_type": "code",
   "execution_count": 27,
   "metadata": {},
   "outputs": [
    {
     "data": {
      "application/vnd.jupyter.widget-view+json": {
       "model_id": "794e40bcefcc49b99c7a1d295f67fa53",
       "version_major": 2,
       "version_minor": 0
      },
      "text/plain": [
       "Widget(value='<iframe src=\"http://localhost:56387/index.html?ui=P_0x363123a10_7&reconnect=auto\" class=\"pyvista…"
      ]
     },
     "metadata": {},
     "output_type": "display_data"
    }
   ],
   "source": [
    "visualize_geometry({\"red-solid\":example_mesh[\"other_faces\"], \"green-solid\":example_mesh[\"upward_faces\"], \"blue-wireframe\":[ifc_dict[\"walls\"][0]]})"
   ]
  },
  {
   "cell_type": "code",
   "execution_count": 20,
   "metadata": {},
   "outputs": [],
   "source": [
    "def poisson_disk_sampling(meshes, radius, k=30, return_pv=True):\n",
    "    def sample_single_mesh(mesh, radius):\n",
    "        # Convert PyVista mesh to Trimesh if necessary\n",
    "        if isinstance(mesh, pv.PolyData):\n",
    "            tri_mesh = trimesh.Trimesh(vertices=mesh.points, faces=mesh.faces.reshape(-1, 4)[:, 1:])\n",
    "        else:\n",
    "            tri_mesh = mesh\n",
    "\n",
    "        # Calculate an appropriate count based on mesh area and radius\n",
    "        approx_count = int(tri_mesh.area / (np.pi * radius**2))\n",
    "        count = max(approx_count, 10)  # Ensure at least 10 points\n",
    "\n",
    "        # Perform Poisson disk sampling with warnings suppressed\n",
    "        with warnings.catch_warnings():\n",
    "            warnings.simplefilter(\"ignore\")\n",
    "            samples, face_indices = trimesh.sample.sample_surface_even(tri_mesh, count=count, radius=radius)\n",
    "        \n",
    "        return samples, face_indices\n",
    "\n",
    "    all_samples = []\n",
    "    all_face_indices = []\n",
    "    \n",
    "    # Ensure meshes is a list\n",
    "    if not isinstance(meshes, list):\n",
    "        meshes = [meshes]\n",
    "    \n",
    "    for mesh in meshes:\n",
    "        samples, face_indices = sample_single_mesh(mesh, radius)\n",
    "        if len(samples) > 0:\n",
    "            all_samples.append(samples)\n",
    "            all_face_indices.append(face_indices)\n",
    "    \n",
    "    # Combine all samples\n",
    "    combined_samples = np.vstack(all_samples) if all_samples else np.array([])\n",
    "    \n",
    "    if return_pv:\n",
    "        # Convert to PyVista PolyData for visualization\n",
    "        point_cloud = pv.PolyData(combined_samples)\n",
    "        return point_cloud\n",
    "    else:\n",
    "        return combined_samples"
   ]
  },
  {
   "cell_type": "code",
   "execution_count": 28,
   "metadata": {},
   "outputs": [],
   "source": [
    "points = poisson_disk_sampling(example_mesh[\"upward_faces\"], 0.1)"
   ]
  },
  {
   "cell_type": "code",
   "execution_count": 29,
   "metadata": {},
   "outputs": [
    {
     "data": {
      "application/vnd.jupyter.widget-view+json": {
       "model_id": "2f91d560baa04bb1add461b953710dd0",
       "version_major": 2,
       "version_minor": 0
      },
      "text/plain": [
       "Widget(value='<iframe src=\"http://localhost:56387/index.html?ui=P_0x36f2193d0_8&reconnect=auto\" class=\"pyvista…"
      ]
     },
     "metadata": {},
     "output_type": "display_data"
    }
   ],
   "source": [
    "visualize_geometry({\"red-solid\":example_mesh[\"other_faces\"], \"green-solid\":example_mesh[\"upward_faces\"], \"blue-wireframe\":[ifc_dict[\"walls\"][0]], \"blue-solid\":[points]})"
   ]
  },
  {
   "cell_type": "code",
   "execution_count": 13,
   "metadata": {},
   "outputs": [],
   "source": [
    "\n",
    "def filter_points_near_meshes(points, meshes, distance_threshold):\n",
    "    \"\"\"\n",
    "    Filter out points that are within a specified distance from any of the given meshes.\n",
    "    \n",
    "    Parameters:\n",
    "    points (np.ndarray or pv.PolyData): Point cloud data\n",
    "    meshes (list): List of PyVista mesh objects\n",
    "    distance_threshold (float): Distance threshold for filtering\n",
    "    \n",
    "    Returns:\n",
    "    pv.PolyData: Filtered point cloud\n",
    "    \"\"\"\n",
    "    # Convert points to PyVista PolyData if it's a numpy array\n",
    "    if isinstance(points, np.ndarray):\n",
    "        points = pv.PolyData(points)\n",
    "    \n",
    "    # Combine all non-empty meshes into a single mesh\n",
    "    combined_mesh = pv.PolyData()\n",
    "    for mesh in meshes:\n",
    "        if mesh.n_cells > 0:\n",
    "            combined_mesh += mesh\n",
    "    \n",
    "    # Check if the combined mesh is empty\n",
    "    if combined_mesh.n_cells == 0:\n",
    "        print(\"Warning: All input meshes are empty. Returning original points.\")\n",
    "        return points\n",
    "    \n",
    "    # Use SciPy's KDTree to compute distances\n",
    "    tree = KDTree(combined_mesh.points)\n",
    "    distances, _ = tree.query(points.points, k=1)\n",
    "    \n",
    "    # Create a mask for points that are farther than the threshold\n",
    "    mask = distances > distance_threshold\n",
    "    \n",
    "    # Apply the mask to filter the points\n",
    "    filtered_points = points.extract_points(mask)\n",
    "    \n",
    "    return filtered_points"
   ]
  },
  {
   "cell_type": "code",
   "execution_count": 30,
   "metadata": {},
   "outputs": [],
   "source": [
    "filtered_points = filter_points_near_meshes(points, example_mesh[\"other_faces\"], 0.5)"
   ]
  },
  {
   "cell_type": "code",
   "execution_count": 31,
   "metadata": {},
   "outputs": [
    {
     "data": {
      "application/vnd.jupyter.widget-view+json": {
       "model_id": "c93b6c7b0f734bf2a54b150c017a6f62",
       "version_major": 2,
       "version_minor": 0
      },
      "text/plain": [
       "Widget(value='<iframe src=\"http://localhost:56387/index.html?ui=P_0x399b60860_9&reconnect=auto\" class=\"pyvista…"
      ]
     },
     "metadata": {},
     "output_type": "display_data"
    }
   ],
   "source": [
    "visualize_geometry({\"red-solid\":example_mesh[\"other_faces\"], \"green-solid\":example_mesh[\"upward_faces\"], \"blue-wireframe\":[ifc_dict[\"walls\"][0]], \"blue-transparent\":[points], \"yellow-solid\":[filtered_points]})"
   ]
  },
  {
   "cell_type": "code",
   "execution_count": 39,
   "metadata": {},
   "outputs": [],
   "source": [
    "horizontal_meshes = []\n",
    "vertical_meshes = []\n",
    "\n",
    "for key in ifc_dict.keys():\n",
    "    # get the meshs associated with this key\n",
    "    if key in [\"slabs\",\"stairs\"]:\n",
    "        meshes = ifc_dict[key]\n",
    "        for mesh in meshes:\n",
    "            processed_mesh = process_mesh(mesh)\n",
    "            horizontal_meshes.extend(processed_mesh[\"upward_faces\"])\n",
    "    if key == \"walls\":\n",
    "        meshes = ifc_dict[key]\n",
    "        for mesh in meshes:\n",
    "            processed_mesh = process_mesh(mesh)\n",
    "            vertical_meshes.extend(processed_mesh[\"other_faces\"])"
   ]
  },
  {
   "cell_type": "code",
   "execution_count": 40,
   "metadata": {},
   "outputs": [],
   "source": [
    "# visualize_geometry({\"green-solid\": horizontal_meshes, \"red-wireframe\": vertical_meshes})"
   ]
  },
  {
   "cell_type": "code",
   "execution_count": 41,
   "metadata": {
    "scrolled": true
   },
   "outputs": [
    {
     "name": "stderr",
     "output_type": "stream",
     "text": [
      "only got 3/10 samples!\n",
      "only got 2/10 samples!\n",
      "only got 2/10 samples!\n",
      "only got 2/10 samples!\n",
      "only got 2/10 samples!\n",
      "only got 2/10 samples!\n",
      "only got 2/10 samples!\n",
      "only got 2/10 samples!\n",
      "only got 2/10 samples!\n",
      "only got 3/10 samples!\n",
      "only got 2/10 samples!\n",
      "only got 2/10 samples!\n",
      "only got 2/10 samples!\n",
      "only got 2/10 samples!\n",
      "only got 1/10 samples!\n",
      "only got 2/10 samples!\n",
      "only got 2/10 samples!\n",
      "only got 2/10 samples!\n",
      "only got 2/10 samples!\n",
      "only got 2/10 samples!\n",
      "only got 2/10 samples!\n",
      "only got 2/10 samples!\n",
      "only got 2/10 samples!\n",
      "only got 2/10 samples!\n",
      "only got 2/10 samples!\n",
      "only got 2/10 samples!\n",
      "only got 2/10 samples!\n",
      "only got 2/10 samples!\n",
      "only got 2/10 samples!\n",
      "only got 1/10 samples!\n",
      "only got 2/10 samples!\n",
      "only got 2/10 samples!\n",
      "only got 2/10 samples!\n",
      "only got 2/10 samples!\n",
      "only got 2/10 samples!\n",
      "only got 2/10 samples!\n",
      "only got 2/10 samples!\n",
      "only got 1/10 samples!\n",
      "only got 3/10 samples!\n",
      "only got 2/10 samples!\n",
      "only got 2/10 samples!\n",
      "only got 2/10 samples!\n",
      "only got 2/10 samples!\n",
      "only got 2/10 samples!\n",
      "only got 2/10 samples!\n",
      "only got 7/10 samples!\n",
      "only got 7/10 samples!\n",
      "only got 6/10 samples!\n",
      "only got 8/10 samples!\n",
      "only got 9/10 samples!\n",
      "only got 8/10 samples!\n",
      "only got 7/10 samples!\n",
      "only got 8/10 samples!\n",
      "only got 8/10 samples!\n",
      "only got 8/10 samples!\n",
      "only got 9/10 samples!\n",
      "only got 7/10 samples!\n",
      "only got 9/10 samples!\n",
      "only got 2/10 samples!\n",
      "only got 2/10 samples!\n",
      "only got 2/10 samples!\n",
      "only got 2/10 samples!\n",
      "only got 2/10 samples!\n",
      "only got 2/10 samples!\n",
      "only got 2/10 samples!\n",
      "only got 2/10 samples!\n",
      "only got 2/10 samples!\n",
      "only got 2/10 samples!\n",
      "only got 2/10 samples!\n",
      "only got 2/10 samples!\n",
      "only got 2/10 samples!\n",
      "only got 2/10 samples!\n",
      "only got 1/10 samples!\n",
      "only got 2/10 samples!\n",
      "only got 3/10 samples!\n",
      "only got 2/10 samples!\n",
      "only got 2/10 samples!\n",
      "only got 2/10 samples!\n",
      "only got 2/10 samples!\n",
      "only got 2/10 samples!\n",
      "only got 2/10 samples!\n",
      "only got 2/10 samples!\n",
      "only got 2/10 samples!\n",
      "only got 2/10 samples!\n",
      "only got 2/10 samples!\n",
      "only got 2/10 samples!\n",
      "only got 2/10 samples!\n",
      "only got 1/10 samples!\n",
      "only got 3/10 samples!\n",
      "only got 2/10 samples!\n",
      "only got 2/10 samples!\n",
      "only got 2/10 samples!\n",
      "only got 2/10 samples!\n",
      "only got 2/10 samples!\n",
      "only got 2/10 samples!\n",
      "only got 1/10 samples!\n",
      "only got 2/10 samples!\n",
      "only got 2/10 samples!\n",
      "only got 3/10 samples!\n",
      "only got 2/10 samples!\n",
      "only got 2/10 samples!\n",
      "only got 2/10 samples!\n",
      "only got 2/10 samples!\n",
      "only got 8/10 samples!\n",
      "only got 8/10 samples!\n",
      "only got 9/10 samples!\n",
      "only got 9/10 samples!\n",
      "only got 8/10 samples!\n",
      "only got 8/10 samples!\n",
      "only got 8/10 samples!\n",
      "only got 7/10 samples!\n",
      "only got 8/10 samples!\n",
      "only got 7/10 samples!\n",
      "only got 9/10 samples!\n",
      "only got 8/10 samples!\n",
      "only got 8/10 samples!\n",
      "only got 8/10 samples!\n",
      "only got 2/10 samples!\n",
      "only got 2/10 samples!\n",
      "only got 2/10 samples!\n",
      "only got 2/10 samples!\n",
      "only got 2/10 samples!\n",
      "only got 2/10 samples!\n",
      "only got 3/10 samples!\n",
      "only got 2/10 samples!\n",
      "only got 3/10 samples!\n",
      "only got 2/10 samples!\n",
      "only got 2/10 samples!\n",
      "only got 2/10 samples!\n",
      "only got 3/10 samples!\n",
      "only got 2/10 samples!\n",
      "only got 1/10 samples!\n",
      "only got 2/10 samples!\n",
      "only got 2/10 samples!\n",
      "only got 2/10 samples!\n",
      "only got 2/10 samples!\n",
      "only got 2/10 samples!\n",
      "only got 2/10 samples!\n",
      "only got 2/10 samples!\n",
      "only got 2/10 samples!\n",
      "only got 2/10 samples!\n",
      "only got 3/10 samples!\n",
      "only got 2/10 samples!\n",
      "only got 2/10 samples!\n",
      "only got 2/10 samples!\n",
      "only got 2/10 samples!\n",
      "only got 1/10 samples!\n",
      "only got 2/10 samples!\n",
      "only got 3/10 samples!\n",
      "only got 2/10 samples!\n",
      "only got 2/10 samples!\n",
      "only got 2/10 samples!\n",
      "only got 2/10 samples!\n",
      "only got 2/10 samples!\n",
      "only got 1/10 samples!\n",
      "only got 2/10 samples!\n",
      "only got 2/10 samples!\n",
      "only got 2/10 samples!\n",
      "only got 3/10 samples!\n",
      "only got 2/10 samples!\n",
      "only got 2/10 samples!\n",
      "only got 2/10 samples!\n",
      "only got 8/10 samples!\n",
      "only got 8/10 samples!\n",
      "only got 7/10 samples!\n",
      "only got 8/10 samples!\n",
      "only got 9/10 samples!\n",
      "only got 9/10 samples!\n",
      "only got 6/10 samples!\n",
      "only got 7/10 samples!\n",
      "only got 7/10 samples!\n",
      "only got 8/10 samples!\n",
      "only got 8/10 samples!\n",
      "only got 8/10 samples!\n",
      "only got 2/10 samples!\n",
      "only got 2/10 samples!\n",
      "only got 2/10 samples!\n",
      "only got 2/10 samples!\n",
      "only got 2/10 samples!\n",
      "only got 2/10 samples!\n",
      "only got 2/10 samples!\n",
      "only got 2/10 samples!\n",
      "only got 2/10 samples!\n",
      "only got 2/10 samples!\n",
      "only got 2/10 samples!\n",
      "only got 2/10 samples!\n",
      "only got 2/10 samples!\n",
      "only got 2/10 samples!\n",
      "only got 1/10 samples!\n",
      "only got 2/10 samples!\n",
      "only got 2/10 samples!\n",
      "only got 2/10 samples!\n",
      "only got 2/10 samples!\n",
      "only got 2/10 samples!\n",
      "only got 2/10 samples!\n",
      "only got 2/10 samples!\n",
      "only got 2/10 samples!\n",
      "only got 2/10 samples!\n",
      "only got 2/10 samples!\n",
      "only got 2/10 samples!\n",
      "only got 2/10 samples!\n",
      "only got 2/10 samples!\n",
      "only got 2/10 samples!\n",
      "only got 1/10 samples!\n",
      "only got 2/10 samples!\n",
      "only got 2/10 samples!\n",
      "only got 2/10 samples!\n",
      "only got 2/10 samples!\n",
      "only got 2/10 samples!\n",
      "only got 2/10 samples!\n",
      "only got 2/10 samples!\n",
      "only got 1/10 samples!\n",
      "only got 2/10 samples!\n",
      "only got 2/10 samples!\n",
      "only got 2/10 samples!\n",
      "only got 2/10 samples!\n",
      "only got 3/10 samples!\n",
      "only got 3/10 samples!\n",
      "only got 2/10 samples!\n",
      "only got 9/10 samples!\n",
      "only got 9/10 samples!\n",
      "only got 8/10 samples!\n",
      "only got 7/10 samples!\n",
      "only got 8/10 samples!\n",
      "only got 9/10 samples!\n",
      "only got 6/10 samples!\n",
      "only got 8/10 samples!\n",
      "only got 8/10 samples!\n",
      "only got 9/10 samples!\n",
      "only got 8/10 samples!\n",
      "only got 8/10 samples!\n"
     ]
    }
   ],
   "source": [
    "# create a point cloud on the horizontal meshes\n",
    "point_cloud = poisson_disk_sampling(horizontal_meshes, 0.1)"
   ]
  },
  {
   "cell_type": "code",
   "execution_count": 44,
   "metadata": {},
   "outputs": [
    {
     "data": {
      "application/vnd.jupyter.widget-view+json": {
       "model_id": "3916ed30185e4e0493b69cc006406b2d",
       "version_major": 2,
       "version_minor": 0
      },
      "text/plain": [
       "Widget(value='<iframe src=\"http://localhost:56387/index.html?ui=P_0x39565cd70_13&reconnect=auto\" class=\"pyvist…"
      ]
     },
     "metadata": {},
     "output_type": "display_data"
    }
   ],
   "source": [
    "visualize_geometry({\"red-solid\":[point_cloud], \"green-wireframe\":vertical_meshes})"
   ]
  },
  {
   "cell_type": "code",
   "execution_count": 48,
   "metadata": {},
   "outputs": [],
   "source": [
    "filtered_points = filter_points_near_meshes(point_cloud, vertical_meshes, 0.5)"
   ]
  },
  {
   "cell_type": "code",
   "execution_count": 49,
   "metadata": {},
   "outputs": [
    {
     "data": {
      "application/vnd.jupyter.widget-view+json": {
       "model_id": "3538ee4b0dea4d849c4a228a4f87c69a",
       "version_major": 2,
       "version_minor": 0
      },
      "text/plain": [
       "Widget(value='<iframe src=\"http://localhost:56387/index.html?ui=P_0x3c7d79e50_16&reconnect=auto\" class=\"pyvist…"
      ]
     },
     "metadata": {},
     "output_type": "display_data"
    }
   ],
   "source": [
    "visualize_geometry({\"green-solid\":[filtered_points]})"
   ]
  },
  {
   "cell_type": "code",
   "execution_count": 55,
   "metadata": {},
   "outputs": [],
   "source": [
    "def create_delaunay_meshes(points, horizontal_threshold, vertical_threshold):\n",
    "    \"\"\"\n",
    "    Create 3D Delaunay meshes from a point cloud, respecting distance thresholds.\n",
    "    \n",
    "    Parameters:\n",
    "    points (np.ndarray or pv.DataSet): Point coordinates or PyVista dataset\n",
    "    horizontal_threshold (float): Maximum allowed horizontal distance between connected points\n",
    "    vertical_threshold (float): Maximum allowed vertical distance between connected points\n",
    "    \n",
    "    Returns:\n",
    "    list of pv.PolyData: List of PyVista mesh objects\n",
    "    \"\"\"\n",
    "    # Convert input to numpy array if it's a PyVista object\n",
    "    if isinstance(points, pv.DataSet):\n",
    "        points = points.points\n",
    "    \n",
    "    # Ensure points is a 2D numpy array\n",
    "    points = np.asarray(points)\n",
    "    if points.ndim != 2 or points.shape[1] != 3:\n",
    "        raise ValueError(\"Points must be a 2D array with shape (N, 3)\")\n",
    "\n",
    "    # Perform Delaunay triangulation\n",
    "    tri = Delaunay(points)\n",
    "    \n",
    "    # Filter simplices based on distance thresholds\n",
    "    valid_simplices = []\n",
    "    for simplex in tri.simplices:\n",
    "        simplex_points = points[simplex]\n",
    "        \n",
    "        # Check all edges of the tetrahedron\n",
    "        edges = [\n",
    "            (simplex_points[0], simplex_points[1]),\n",
    "            (simplex_points[0], simplex_points[2]),\n",
    "            (simplex_points[0], simplex_points[3]),\n",
    "            (simplex_points[1], simplex_points[2]),\n",
    "            (simplex_points[1], simplex_points[3]),\n",
    "            (simplex_points[2], simplex_points[3])\n",
    "        ]\n",
    "        \n",
    "        valid_edge_count = 0\n",
    "        for p1, p2 in edges:\n",
    "            horizontal_dist = np.sqrt((p1[0] - p2[0])**2 + (p1[1] - p2[1])**2)\n",
    "            vertical_dist = abs(p1[2] - p2[2])\n",
    "            \n",
    "            if horizontal_dist <= horizontal_threshold and vertical_dist <= vertical_threshold:\n",
    "                valid_edge_count += 1\n",
    "        \n",
    "        # If all edges are valid, keep this simplex\n",
    "        if valid_edge_count == 6:\n",
    "            valid_simplices.append(simplex)\n",
    "    \n",
    "    # Create separate meshes based on connectivity\n",
    "    mesh_groups = []\n",
    "    remaining_simplices = set(map(tuple, valid_simplices))\n",
    "    \n",
    "    while remaining_simplices:\n",
    "        current_group = set()\n",
    "        simplex_queue = [remaining_simplices.pop()]\n",
    "        \n",
    "        while simplex_queue:\n",
    "            current_simplex = simplex_queue.pop()\n",
    "            current_group.add(current_simplex)\n",
    "            \n",
    "            for simplex in list(remaining_simplices):\n",
    "                if len(set(current_simplex) & set(simplex)) > 0:\n",
    "                    simplex_queue.append(simplex)\n",
    "                    remaining_simplices.remove(simplex)\n",
    "        \n",
    "        mesh_groups.append(list(current_group))\n",
    "    \n",
    "    # Convert mesh groups to PyVista PolyData objects\n",
    "    pv_meshes = []\n",
    "    for group in mesh_groups:\n",
    "        # Format faces for PyVista\n",
    "        faces = []\n",
    "        for simplex in group:\n",
    "            faces.extend([3, simplex[0], simplex[1], simplex[2]])\n",
    "            faces.extend([3, simplex[0], simplex[1], simplex[3]])\n",
    "            faces.extend([3, simplex[0], simplex[2], simplex[3]])\n",
    "            faces.extend([3, simplex[1], simplex[2], simplex[3]])\n",
    "        \n",
    "        faces = np.array(faces)\n",
    "        mesh = pv.PolyData(points, faces)\n",
    "        pv_meshes.append(mesh)\n",
    "    \n",
    "    return pv_meshes"
   ]
  },
  {
   "cell_type": "code",
   "execution_count": 56,
   "metadata": {},
   "outputs": [],
   "source": [
    "nav_mesh = create_delaunay_meshes(filtered_points, 0.3, 0.4)"
   ]
  },
  {
   "cell_type": "code",
   "execution_count": 59,
   "metadata": {},
   "outputs": [
    {
     "data": {
      "application/vnd.jupyter.widget-view+json": {
       "model_id": "d020caea40f142db909dced8ac205f44",
       "version_major": 2,
       "version_minor": 0
      },
      "text/plain": [
       "Widget(value='<iframe src=\"http://localhost:56387/index.html?ui=P_0x3c33b70e0_19&reconnect=auto\" class=\"pyvist…"
      ]
     },
     "metadata": {},
     "output_type": "display_data"
    }
   ],
   "source": [
    "visualize_geometry({\"red-solid\":nav_mesh})"
   ]
  },
  {
   "cell_type": "code",
   "execution_count": null,
   "metadata": {},
   "outputs": [],
   "source": [
    "na"
   ]
  }
 ],
 "metadata": {
  "kernelspec": {
   "display_name": "ariadne",
   "language": "python",
   "name": "ariadne"
  },
  "language_info": {
   "codemirror_mode": {
    "name": "ipython",
    "version": 3
   },
   "file_extension": ".py",
   "mimetype": "text/x-python",
   "name": "python",
   "nbconvert_exporter": "python",
   "pygments_lexer": "ipython3",
   "version": "3.12.4"
  }
 },
 "nbformat": 4,
 "nbformat_minor": 4
}
